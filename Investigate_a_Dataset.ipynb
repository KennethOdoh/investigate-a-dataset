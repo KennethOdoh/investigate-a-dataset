{
 "cells": [
  {
   "cell_type": "markdown",
   "metadata": {},
   "source": [
    "> \n",
    "# Project: Investigate a Dataset - No Show Appointment\n",
    "\n",
    "## Table of Contents\n",
    "<ul>\n",
    "<li><a href=\"#intro\">Introduction</a></li>\n",
    "<li><a href=\"#wrangling\">Data Wrangling</a></li>\n",
    "<li><a href=\"#eda\">Exploratory Data Analysis</a></li>\n",
    "<li><a href=\"#conclusions\">Conclusions</a></li>\n",
    "</ul>"
   ]
  },
  {
   "cell_type": "markdown",
   "metadata": {},
   "source": [
    "<a id='intro'></a>\n",
    "## Introduction\n",
    "\n",
    "### Dataset Description \n",
    "\n",
    "In this project, a total of 110527 samples were analysed. The dataset comes from information on medical appointments in Brazil. It is focused on whether or not patients keep to their medical appointments. These include demographic data, medical record, along with other details related to the appointment booking.\n",
    "\n",
    "Here is a breakdown of different data collected about each patient, along with their descriptions:\n",
    "<ul>\n",
    "    <li>Gender: Male (M) or Female (F)</li>\n",
    "    <li><em>ScheduleDay</em> (Scheduled Day): A DateTime object denoting the day the appointment was scheduled</li>\n",
    "    <li><em>AppointmentDay</em> (AppointmentDay): A datetime object for the day the appointment was booked for</li>\n",
    "    <li><em>Age</em>: Age of the patient</li>\n",
    "    <li><em>Neighbourhood</em>: ‘Neighborhood’ indicates the location of the hospital.</li>\n",
    "    <li><em>Scholarship</em>: ‘Scholarship’ indicates whether or not the patient is enrolled in Brasilian welfare program</li> <br>\n",
    "    <em>Medical records included the following:</em>\n",
    "    They are all int64 object types.\n",
    "    <li>Hypertension</li>\n",
    "    <li>Diabetes</li>\n",
    "    <li>Alcoholism</li>\n",
    "    <li>Handcap</li><br>\n",
    "    <li>SMS_received: Did patient recieve SMS?</li>\n",
    "    <li>No-show: Did patient miss appointment? (Yes/No). <b>Hint:</b> \"No\" means patient did not miss appointment while yes means otherwise.</li>\n",
    "</ul>\n",
    "\n",
    "## There were other data collected, which shall not have any impact on our analysis. These columns were not considered in this analysis.\n",
    "\n",
    "<ul>\n",
    "    <li>PatientId</li>\n",
    "    <li>AppointmentId</li>\n",
    "</ul>\n",
    "\n",
    "## Question(s) for Analysis\n",
    "### __1. How much impact does demographic data such as Age and Gender have on Appointment keeping?__\n",
    ">**Important questions asked:**\n",
    "    i. How does age distribution correlate with appointment keeping?\n",
    "    ii. How does Gender affect appointment keeping?\n",
    "\n",
    "### __2. Influence of DateTime on appointment keeping__\n",
    ">**Important questions asked:**\n",
    "    For each neighbourhood:\n",
    "    i. which week recorded the _Highest_ No-show rate?\n",
    "    ii. Overtime, how has patients hospital appointment behaviours changed?\n",
    "    \n",
    "### __3. How effective is the SMS strategy?__\n",
    ">**Important questions asked:** For each age group, what percentage of those who recieved SMS were able to keep to their appointment?\n",
    "What percentage received sms but still did not keep appointment?\n",
    "    \n"
   ]
  },
  {
   "cell_type": "code",
   "execution_count": 1,
   "metadata": {},
   "outputs": [],
   "source": [
    "#import packages\n",
    "\n",
    "import pandas as pd\n",
    "import numpy as np\n",
    "import matplotlib.pyplot as plt\n",
    "import seaborn as sns\n",
    "\n",
    "%matplotlib inline\n",
    "sns.set_style('darkgrid')"
   ]
  },
  {
   "cell_type": "markdown",
   "metadata": {},
   "source": [
    "<a id='wrangling'></a>\n",
    "## Data Wrangling"
   ]
  },
  {
   "cell_type": "code",
   "execution_count": 2,
   "metadata": {},
   "outputs": [],
   "source": [
    "#let's load the data\n",
    "df = pd.read_csv('noshowappointments-kagglev2-may-2016.csv')"
   ]
  },
  {
   "cell_type": "markdown",
   "metadata": {},
   "source": [
    "### Data Cleaning"
   ]
  },
  {
   "cell_type": "code",
   "execution_count": 3,
   "metadata": {},
   "outputs": [],
   "source": [
    "# Helpful functions\n",
    "\n",
    "#Function to perform Data cleaning operation\n",
    "def data_cleanup(df, drop_columns=None, rename_list=None, no_negative_list=None, \n",
    "                 to_datetime_list=None, check_duplicate_rows=True, check_for_nan=True,):\n",
    "    \n",
    "    '''This function performs several data cleaning operations.\n",
    "Pass in a list of columns you want to drop.\n",
    "It also checks for duplicate rows and removes duplicates, fills up missing values for both numeric and string datatypes, etc. '''\n",
    "    \n",
    "    if drop_columns:\n",
    "        print('Dropping columns...\\n')\n",
    "        try:\n",
    "            df.drop(columns=drop_columns, inplace=True)\n",
    "        except KeyError:\n",
    "            pass\n",
    "        finally:\n",
    "            print('Columns updated successfully \\n')\n",
    "    else:\n",
    "        pass\n",
    "    \n",
    "    #If you want to rename any column or list of columns, pass it in dict format to the function\n",
    "    #Rename the column labels to correct spellings and follow uniform naming convention.\n",
    "    \n",
    "    if rename_list:\n",
    "        print(\"Updating column labels...\\n\")\n",
    "        try:\n",
    "            df.rename(columns = rename_list, inplace=True,)   \n",
    "        except KeyError:\n",
    "            pass\n",
    "        finally:\n",
    "            print(\"Column labels updated successfully\\n\")\n",
    "    else:\n",
    "        pass\n",
    "    \n",
    "    #check for and eliminate duplicate rows, but retain only the first instance\n",
    "    if check_duplicate_rows == True:\n",
    "        print(\"Checking for posible duplicate rows...\\n\")\n",
    "        df[df.duplicated()]\n",
    "    else:\n",
    "        pass\n",
    "    \n",
    "    \n",
    "        #Here, check for missing values and fill up according to data type\n",
    "    if check_for_nan == True:\n",
    "        for i in df.columns:\n",
    "            if df[i].isna().any():\n",
    "\n",
    "                if df[i].dtype.kind in 'biufc':         #fill up missing values with the mean if column data type is numeric\n",
    "                    mean = df[i].mean()\n",
    "                    df[i].fillna(mean, inplace=True)   \n",
    "                else:                                    #else, fill up missing value with the mode for other data types\n",
    "                    mode = df[i].mode()\n",
    "                    df[i].fillna(mode, inplace = True)\n",
    "\n",
    "                \n",
    "                \n",
    "    # check for negative values in all columns where they are not expected\n",
    "    if no_negative_list:\n",
    "        print(\"checking for negative values... \\n\")\n",
    "        for i in no_negative_list:\n",
    "            if (df < 0)[str(i)].any():\n",
    "                print(i + ':    True')\n",
    "            else:\n",
    "                print('No negative values found in all checked columns\\n')\n",
    "                pass\n",
    "    else:\n",
    "        pass\n",
    "    \n",
    "    \n",
    "            \n",
    "    #convert ScheduledDay and AppointmentDay into datetime formats for our operations\n",
    "    if to_datetime_list:\n",
    "        for i in to_datetime_list:\n",
    "            try:\n",
    "                df[i] = pd.to_datetime(df[i])\n",
    "                #pd.to_datetime(df[i])\n",
    "                \n",
    "            except KeyError:\n",
    "                print('Cannot convert to datetime')\n",
    "                pass\n",
    "#             finally:\n",
    "#                 print(\"Columns converted to datetime \\n\\n\")\n",
    "    else:\n",
    "        pass\n",
    "    \n",
    "    \n",
    "    \n",
    "\n",
    "def filter_by_query(data_frame, col_name, query_val):\n",
    "    '''this function queries a column using the pandas.query() method. pass in the dataframe, column name and the query value you want to filter the column by.'''\n",
    "    if type(col_name) == int or type(col_name) == float:\n",
    "        filtered_frame = data_frame.query('%d == %s' %(col_name, query_val))\n",
    "        return filtered_frame\n",
    "    else:\n",
    "        filtered_frame = data_frame.query('%s == \"%s\"' %(col_name, query_val))\n",
    "        return filtered_frame"
   ]
  },
  {
   "cell_type": "code",
   "execution_count": 4,
   "metadata": {},
   "outputs": [
    {
     "name": "stdout",
     "output_type": "stream",
     "text": [
      "Dropping columns...\n",
      "\n",
      "Columns updated successfully \n",
      "\n",
      "Checking for posible duplicate rows...\n",
      "\n"
     ]
    },
    {
     "data": {
      "text/html": [
       "<div>\n",
       "<style scoped>\n",
       "    .dataframe tbody tr th:only-of-type {\n",
       "        vertical-align: middle;\n",
       "    }\n",
       "\n",
       "    .dataframe tbody tr th {\n",
       "        vertical-align: top;\n",
       "    }\n",
       "\n",
       "    .dataframe thead th {\n",
       "        text-align: right;\n",
       "    }\n",
       "</style>\n",
       "<table border=\"1\" class=\"dataframe\">\n",
       "  <thead>\n",
       "    <tr style=\"text-align: right;\">\n",
       "      <th></th>\n",
       "      <th>Gender</th>\n",
       "      <th>ScheduledDay</th>\n",
       "      <th>AppointmentDay</th>\n",
       "      <th>Age</th>\n",
       "      <th>Neighbourhood</th>\n",
       "      <th>Scholarship</th>\n",
       "      <th>Hipertension</th>\n",
       "      <th>Diabetes</th>\n",
       "      <th>Alcoholism</th>\n",
       "      <th>Handcap</th>\n",
       "      <th>SMS_received</th>\n",
       "      <th>No-show</th>\n",
       "    </tr>\n",
       "  </thead>\n",
       "  <tbody>\n",
       "    <tr>\n",
       "      <th>0</th>\n",
       "      <td>F</td>\n",
       "      <td>2016-04-29T18:38:08Z</td>\n",
       "      <td>2016-04-29T00:00:00Z</td>\n",
       "      <td>62</td>\n",
       "      <td>JARDIM DA PENHA</td>\n",
       "      <td>0</td>\n",
       "      <td>1</td>\n",
       "      <td>0</td>\n",
       "      <td>0</td>\n",
       "      <td>0</td>\n",
       "      <td>0</td>\n",
       "      <td>No</td>\n",
       "    </tr>\n",
       "    <tr>\n",
       "      <th>1</th>\n",
       "      <td>M</td>\n",
       "      <td>2016-04-29T16:08:27Z</td>\n",
       "      <td>2016-04-29T00:00:00Z</td>\n",
       "      <td>56</td>\n",
       "      <td>JARDIM DA PENHA</td>\n",
       "      <td>0</td>\n",
       "      <td>0</td>\n",
       "      <td>0</td>\n",
       "      <td>0</td>\n",
       "      <td>0</td>\n",
       "      <td>0</td>\n",
       "      <td>No</td>\n",
       "    </tr>\n",
       "    <tr>\n",
       "      <th>2</th>\n",
       "      <td>F</td>\n",
       "      <td>2016-04-29T16:19:04Z</td>\n",
       "      <td>2016-04-29T00:00:00Z</td>\n",
       "      <td>62</td>\n",
       "      <td>MATA DA PRAIA</td>\n",
       "      <td>0</td>\n",
       "      <td>0</td>\n",
       "      <td>0</td>\n",
       "      <td>0</td>\n",
       "      <td>0</td>\n",
       "      <td>0</td>\n",
       "      <td>No</td>\n",
       "    </tr>\n",
       "    <tr>\n",
       "      <th>3</th>\n",
       "      <td>F</td>\n",
       "      <td>2016-04-29T17:29:31Z</td>\n",
       "      <td>2016-04-29T00:00:00Z</td>\n",
       "      <td>8</td>\n",
       "      <td>PONTAL DE CAMBURI</td>\n",
       "      <td>0</td>\n",
       "      <td>0</td>\n",
       "      <td>0</td>\n",
       "      <td>0</td>\n",
       "      <td>0</td>\n",
       "      <td>0</td>\n",
       "      <td>No</td>\n",
       "    </tr>\n",
       "    <tr>\n",
       "      <th>4</th>\n",
       "      <td>F</td>\n",
       "      <td>2016-04-29T16:07:23Z</td>\n",
       "      <td>2016-04-29T00:00:00Z</td>\n",
       "      <td>56</td>\n",
       "      <td>JARDIM DA PENHA</td>\n",
       "      <td>0</td>\n",
       "      <td>1</td>\n",
       "      <td>1</td>\n",
       "      <td>0</td>\n",
       "      <td>0</td>\n",
       "      <td>0</td>\n",
       "      <td>No</td>\n",
       "    </tr>\n",
       "  </tbody>\n",
       "</table>\n",
       "</div>"
      ],
      "text/plain": [
       "  Gender          ScheduledDay        AppointmentDay  Age      Neighbourhood  \\\n",
       "0      F  2016-04-29T18:38:08Z  2016-04-29T00:00:00Z   62    JARDIM DA PENHA   \n",
       "1      M  2016-04-29T16:08:27Z  2016-04-29T00:00:00Z   56    JARDIM DA PENHA   \n",
       "2      F  2016-04-29T16:19:04Z  2016-04-29T00:00:00Z   62      MATA DA PRAIA   \n",
       "3      F  2016-04-29T17:29:31Z  2016-04-29T00:00:00Z    8  PONTAL DE CAMBURI   \n",
       "4      F  2016-04-29T16:07:23Z  2016-04-29T00:00:00Z   56    JARDIM DA PENHA   \n",
       "\n",
       "   Scholarship  Hipertension  Diabetes  Alcoholism  Handcap  SMS_received  \\\n",
       "0            0             1         0           0        0             0   \n",
       "1            0             0         0           0        0             0   \n",
       "2            0             0         0           0        0             0   \n",
       "3            0             0         0           0        0             0   \n",
       "4            0             1         1           0        0             0   \n",
       "\n",
       "  No-show  \n",
       "0      No  \n",
       "1      No  \n",
       "2      No  \n",
       "3      No  \n",
       "4      No  "
      ]
     },
     "execution_count": 4,
     "metadata": {},
     "output_type": "execute_result"
    }
   ],
   "source": [
    "#Let's drop some columns:\n",
    "drop_columns = ['PatientId', 'AppointmentID']\n",
    "data_cleanup(df, drop_columns=drop_columns )\n",
    "df.head()"
   ]
  },
  {
   "cell_type": "markdown",
   "metadata": {},
   "source": [
    "### Checking for Cleaningness"
   ]
  },
  {
   "cell_type": "code",
   "execution_count": 5,
   "metadata": {},
   "outputs": [
    {
     "name": "stdout",
     "output_type": "stream",
     "text": [
      "Updating column labels...\n",
      "\n",
      "Column labels updated successfully\n",
      "\n",
      "Checking for posible duplicate rows...\n",
      "\n"
     ]
    },
    {
     "data": {
      "text/html": [
       "<div>\n",
       "<style scoped>\n",
       "    .dataframe tbody tr th:only-of-type {\n",
       "        vertical-align: middle;\n",
       "    }\n",
       "\n",
       "    .dataframe tbody tr th {\n",
       "        vertical-align: top;\n",
       "    }\n",
       "\n",
       "    .dataframe thead th {\n",
       "        text-align: right;\n",
       "    }\n",
       "</style>\n",
       "<table border=\"1\" class=\"dataframe\">\n",
       "  <thead>\n",
       "    <tr style=\"text-align: right;\">\n",
       "      <th></th>\n",
       "      <th>gender</th>\n",
       "      <th>schedule_day</th>\n",
       "      <th>appointment_day</th>\n",
       "      <th>age</th>\n",
       "      <th>neighbourhood</th>\n",
       "      <th>scholarship</th>\n",
       "      <th>hypertension</th>\n",
       "      <th>diabetes</th>\n",
       "      <th>alcoholism</th>\n",
       "      <th>handicap</th>\n",
       "      <th>sms_received</th>\n",
       "      <th>no_show</th>\n",
       "    </tr>\n",
       "  </thead>\n",
       "  <tbody>\n",
       "    <tr>\n",
       "      <th>0</th>\n",
       "      <td>F</td>\n",
       "      <td>2016-04-29T18:38:08Z</td>\n",
       "      <td>2016-04-29T00:00:00Z</td>\n",
       "      <td>62</td>\n",
       "      <td>JARDIM DA PENHA</td>\n",
       "      <td>0</td>\n",
       "      <td>1</td>\n",
       "      <td>0</td>\n",
       "      <td>0</td>\n",
       "      <td>0</td>\n",
       "      <td>0</td>\n",
       "      <td>No</td>\n",
       "    </tr>\n",
       "    <tr>\n",
       "      <th>1</th>\n",
       "      <td>M</td>\n",
       "      <td>2016-04-29T16:08:27Z</td>\n",
       "      <td>2016-04-29T00:00:00Z</td>\n",
       "      <td>56</td>\n",
       "      <td>JARDIM DA PENHA</td>\n",
       "      <td>0</td>\n",
       "      <td>0</td>\n",
       "      <td>0</td>\n",
       "      <td>0</td>\n",
       "      <td>0</td>\n",
       "      <td>0</td>\n",
       "      <td>No</td>\n",
       "    </tr>\n",
       "    <tr>\n",
       "      <th>2</th>\n",
       "      <td>F</td>\n",
       "      <td>2016-04-29T16:19:04Z</td>\n",
       "      <td>2016-04-29T00:00:00Z</td>\n",
       "      <td>62</td>\n",
       "      <td>MATA DA PRAIA</td>\n",
       "      <td>0</td>\n",
       "      <td>0</td>\n",
       "      <td>0</td>\n",
       "      <td>0</td>\n",
       "      <td>0</td>\n",
       "      <td>0</td>\n",
       "      <td>No</td>\n",
       "    </tr>\n",
       "    <tr>\n",
       "      <th>3</th>\n",
       "      <td>F</td>\n",
       "      <td>2016-04-29T17:29:31Z</td>\n",
       "      <td>2016-04-29T00:00:00Z</td>\n",
       "      <td>8</td>\n",
       "      <td>PONTAL DE CAMBURI</td>\n",
       "      <td>0</td>\n",
       "      <td>0</td>\n",
       "      <td>0</td>\n",
       "      <td>0</td>\n",
       "      <td>0</td>\n",
       "      <td>0</td>\n",
       "      <td>No</td>\n",
       "    </tr>\n",
       "    <tr>\n",
       "      <th>4</th>\n",
       "      <td>F</td>\n",
       "      <td>2016-04-29T16:07:23Z</td>\n",
       "      <td>2016-04-29T00:00:00Z</td>\n",
       "      <td>56</td>\n",
       "      <td>JARDIM DA PENHA</td>\n",
       "      <td>0</td>\n",
       "      <td>1</td>\n",
       "      <td>1</td>\n",
       "      <td>0</td>\n",
       "      <td>0</td>\n",
       "      <td>0</td>\n",
       "      <td>No</td>\n",
       "    </tr>\n",
       "  </tbody>\n",
       "</table>\n",
       "</div>"
      ],
      "text/plain": [
       "  gender          schedule_day       appointment_day  age      neighbourhood  \\\n",
       "0      F  2016-04-29T18:38:08Z  2016-04-29T00:00:00Z   62    JARDIM DA PENHA   \n",
       "1      M  2016-04-29T16:08:27Z  2016-04-29T00:00:00Z   56    JARDIM DA PENHA   \n",
       "2      F  2016-04-29T16:19:04Z  2016-04-29T00:00:00Z   62      MATA DA PRAIA   \n",
       "3      F  2016-04-29T17:29:31Z  2016-04-29T00:00:00Z    8  PONTAL DE CAMBURI   \n",
       "4      F  2016-04-29T16:07:23Z  2016-04-29T00:00:00Z   56    JARDIM DA PENHA   \n",
       "\n",
       "   scholarship  hypertension  diabetes  alcoholism  handicap  sms_received  \\\n",
       "0            0             1         0           0         0             0   \n",
       "1            0             0         0           0         0             0   \n",
       "2            0             0         0           0         0             0   \n",
       "3            0             0         0           0         0             0   \n",
       "4            0             1         1           0         0             0   \n",
       "\n",
       "  no_show  \n",
       "0      No  \n",
       "1      No  \n",
       "2      No  \n",
       "3      No  \n",
       "4      No  "
      ]
     },
     "execution_count": 5,
     "metadata": {},
     "output_type": "execute_result"
    }
   ],
   "source": [
    "# Let's rename the column labels for consistency in naming convention:\n",
    "\n",
    "rename_list = {'Gender':'gender', 'ScheduledDay':'schedule_day', 'AppointmentDay':'appointment_day', 'Age':'age', \n",
    "              'Neighbourhood':'neighbourhood', 'Scholarship':'scholarship', 'Hipertension':'hypertension', 'Diabetes':'diabetes',\n",
    "              'Alcoholism':'alcoholism', 'Handcap':'handicap', 'SMS_received':'sms_received', 'No-show':'no_show'\n",
    "             }\n",
    "\n",
    "data_cleanup(df, rename_list = rename_list)\n",
    "df.head()"
   ]
  },
  {
   "cell_type": "code",
   "execution_count": 6,
   "metadata": {},
   "outputs": [
    {
     "name": "stdout",
     "output_type": "stream",
     "text": [
      "Checking for posible duplicate rows...\n",
      "\n",
      "checking for negative values... \n",
      "\n",
      "age:    True\n"
     ]
    }
   ],
   "source": [
    "#check for negative numbers in certain columns:\n",
    "no_negative_list = ['age']\n",
    "data_cleanup(df, no_negative_list=no_negative_list)"
   ]
  },
  {
   "cell_type": "markdown",
   "metadata": {},
   "source": [
    "**\"age\" contains a negative value**"
   ]
  },
  {
   "cell_type": "markdown",
   "metadata": {},
   "source": [
    "Below, we check for negative value in the \"age\" column and replace with 0"
   ]
  },
  {
   "cell_type": "code",
   "execution_count": 7,
   "metadata": {},
   "outputs": [
    {
     "data": {
      "text/plain": [
       "99832   -1\n",
       "Name: age, dtype: int64"
      ]
     },
     "execution_count": 7,
     "metadata": {},
     "output_type": "execute_result"
    }
   ],
   "source": [
    "df.query('age < 0')['age']"
   ]
  },
  {
   "cell_type": "code",
   "execution_count": 8,
   "metadata": {},
   "outputs": [
    {
     "data": {
      "text/plain": [
       "0"
      ]
     },
     "execution_count": 8,
     "metadata": {},
     "output_type": "execute_result"
    }
   ],
   "source": [
    "#let's replace the \"-1\" with minimum possible age = 0\n",
    "df.at[99832, 'age'] = 0\n",
    "df.min()['age']"
   ]
  },
  {
   "cell_type": "code",
   "execution_count": 9,
   "metadata": {},
   "outputs": [
    {
     "name": "stdout",
     "output_type": "stream",
     "text": [
      "Checking for posible duplicate rows...\n",
      "\n"
     ]
    }
   ],
   "source": [
    "#check for possible duplicate rows\n",
    "data_cleanup(df, check_duplicate_rows=True)"
   ]
  },
  {
   "cell_type": "markdown",
   "metadata": {},
   "source": [
    "No duplicates were found"
   ]
  },
  {
   "cell_type": "code",
   "execution_count": 10,
   "metadata": {},
   "outputs": [
    {
     "name": "stdout",
     "output_type": "stream",
     "text": [
      "Checking for posible duplicate rows...\n",
      "\n",
      "<class 'pandas.core.frame.DataFrame'>\n",
      "RangeIndex: 110527 entries, 0 to 110526\n",
      "Data columns (total 12 columns):\n",
      "gender             110527 non-null object\n",
      "schedule_day       110527 non-null datetime64[ns]\n",
      "appointment_day    110527 non-null datetime64[ns]\n",
      "age                110527 non-null int64\n",
      "neighbourhood      110527 non-null object\n",
      "scholarship        110527 non-null int64\n",
      "hypertension       110527 non-null int64\n",
      "diabetes           110527 non-null int64\n",
      "alcoholism         110527 non-null int64\n",
      "handicap           110527 non-null int64\n",
      "sms_received       110527 non-null int64\n",
      "no_show            110527 non-null object\n",
      "dtypes: datetime64[ns](2), int64(7), object(3)\n",
      "memory usage: 10.1+ MB\n"
     ]
    }
   ],
   "source": [
    "# convert \"schedule_day\" and \"appointment_day\" from string to datetime format\n",
    "to_datetime_list = [\"schedule_day\", \"appointment_day\"]\n",
    "data_cleanup(df, to_datetime_list = to_datetime_list)\n",
    "df.info()"
   ]
  },
  {
   "cell_type": "markdown",
   "metadata": {},
   "source": [
    "<a id='eda'></a>\n",
    "## Exploratory Data Analysis\n",
    "\n",
    "\n",
    "### Research Question 1. How much impact does demographic data such as Age and Gender have on Appointment keeping?"
   ]
  },
  {
   "cell_type": "markdown",
   "metadata": {},
   "source": [
    "### How does age distribution correlate with appointment keeping?\n",
    "\n",
    "**Let's create five age groups:**\n",
    "\n",
    "Our age grouping slightly followed the pattern in this [link](https://www.weforum.org/agenda/2015/09/how-different-age-groups-identify-with-their-generational-labels/)\n",
    "\n",
    "1. Young: 0 - 18 years\n",
    "2. Millenial: 18 - 34 years\n",
    "3. Gen x: 34 - 50 years\n",
    "4. Boomer: 50 - 69 years\n",
    "5. Silent: 69 years and above"
   ]
  },
  {
   "cell_type": "code",
   "execution_count": 24,
   "metadata": {},
   "outputs": [
    {
     "data": {
      "text/html": [
       "<div>\n",
       "<style scoped>\n",
       "    .dataframe tbody tr th:only-of-type {\n",
       "        vertical-align: middle;\n",
       "    }\n",
       "\n",
       "    .dataframe tbody tr th {\n",
       "        vertical-align: top;\n",
       "    }\n",
       "\n",
       "    .dataframe thead th {\n",
       "        text-align: right;\n",
       "    }\n",
       "</style>\n",
       "<table border=\"1\" class=\"dataframe\">\n",
       "  <thead>\n",
       "    <tr style=\"text-align: right;\">\n",
       "      <th></th>\n",
       "      <th>gender</th>\n",
       "      <th>schedule_day</th>\n",
       "      <th>appointment_day</th>\n",
       "      <th>age</th>\n",
       "      <th>neighbourhood</th>\n",
       "      <th>scholarship</th>\n",
       "      <th>hypertension</th>\n",
       "      <th>diabetes</th>\n",
       "      <th>alcoholism</th>\n",
       "      <th>handicap</th>\n",
       "      <th>sms_received</th>\n",
       "      <th>no_show</th>\n",
       "      <th>age_group</th>\n",
       "    </tr>\n",
       "  </thead>\n",
       "  <tbody>\n",
       "    <tr>\n",
       "      <th>0</th>\n",
       "      <td>F</td>\n",
       "      <td>2016-04-29 18:38:08</td>\n",
       "      <td>2016-04-29</td>\n",
       "      <td>62</td>\n",
       "      <td>JARDIM DA PENHA</td>\n",
       "      <td>0</td>\n",
       "      <td>1</td>\n",
       "      <td>0</td>\n",
       "      <td>0</td>\n",
       "      <td>0</td>\n",
       "      <td>0</td>\n",
       "      <td>No</td>\n",
       "      <td>Boomer</td>\n",
       "    </tr>\n",
       "    <tr>\n",
       "      <th>1</th>\n",
       "      <td>M</td>\n",
       "      <td>2016-04-29 16:08:27</td>\n",
       "      <td>2016-04-29</td>\n",
       "      <td>56</td>\n",
       "      <td>JARDIM DA PENHA</td>\n",
       "      <td>0</td>\n",
       "      <td>0</td>\n",
       "      <td>0</td>\n",
       "      <td>0</td>\n",
       "      <td>0</td>\n",
       "      <td>0</td>\n",
       "      <td>No</td>\n",
       "      <td>Gen X</td>\n",
       "    </tr>\n",
       "    <tr>\n",
       "      <th>2</th>\n",
       "      <td>F</td>\n",
       "      <td>2016-04-29 16:19:04</td>\n",
       "      <td>2016-04-29</td>\n",
       "      <td>62</td>\n",
       "      <td>MATA DA PRAIA</td>\n",
       "      <td>0</td>\n",
       "      <td>0</td>\n",
       "      <td>0</td>\n",
       "      <td>0</td>\n",
       "      <td>0</td>\n",
       "      <td>0</td>\n",
       "      <td>No</td>\n",
       "      <td>Boomer</td>\n",
       "    </tr>\n",
       "    <tr>\n",
       "      <th>3</th>\n",
       "      <td>F</td>\n",
       "      <td>2016-04-29 17:29:31</td>\n",
       "      <td>2016-04-29</td>\n",
       "      <td>8</td>\n",
       "      <td>PONTAL DE CAMBURI</td>\n",
       "      <td>0</td>\n",
       "      <td>0</td>\n",
       "      <td>0</td>\n",
       "      <td>0</td>\n",
       "      <td>0</td>\n",
       "      <td>0</td>\n",
       "      <td>No</td>\n",
       "      <td>Young</td>\n",
       "    </tr>\n",
       "    <tr>\n",
       "      <th>4</th>\n",
       "      <td>F</td>\n",
       "      <td>2016-04-29 16:07:23</td>\n",
       "      <td>2016-04-29</td>\n",
       "      <td>56</td>\n",
       "      <td>JARDIM DA PENHA</td>\n",
       "      <td>0</td>\n",
       "      <td>1</td>\n",
       "      <td>1</td>\n",
       "      <td>0</td>\n",
       "      <td>0</td>\n",
       "      <td>0</td>\n",
       "      <td>No</td>\n",
       "      <td>Gen X</td>\n",
       "    </tr>\n",
       "  </tbody>\n",
       "</table>\n",
       "</div>"
      ],
      "text/plain": [
       "  gender        schedule_day appointment_day  age      neighbourhood  \\\n",
       "0      F 2016-04-29 18:38:08      2016-04-29   62    JARDIM DA PENHA   \n",
       "1      M 2016-04-29 16:08:27      2016-04-29   56    JARDIM DA PENHA   \n",
       "2      F 2016-04-29 16:19:04      2016-04-29   62      MATA DA PRAIA   \n",
       "3      F 2016-04-29 17:29:31      2016-04-29    8  PONTAL DE CAMBURI   \n",
       "4      F 2016-04-29 16:07:23      2016-04-29   56    JARDIM DA PENHA   \n",
       "\n",
       "   scholarship  hypertension  diabetes  alcoholism  handicap  sms_received  \\\n",
       "0            0             1         0           0         0             0   \n",
       "1            0             0         0           0         0             0   \n",
       "2            0             0         0           0         0             0   \n",
       "3            0             0         0           0         0             0   \n",
       "4            0             1         1           0         0             0   \n",
       "\n",
       "  no_show age_group  \n",
       "0      No    Boomer  \n",
       "1      No     Gen X  \n",
       "2      No    Boomer  \n",
       "3      No     Young  \n",
       "4      No     Gen X  "
      ]
     },
     "execution_count": 24,
     "metadata": {},
     "output_type": "execute_result"
    }
   ],
   "source": [
    "#create a column 'age_group', classifying ages under the five main categories listed above\n",
    "\n",
    "bin_edges = [0, 18, 34, 60, 69, df['age'].max()]\n",
    "bin_names = ['Young', 'Millenial', 'Gen X', 'Boomer', 'Silent']\n",
    "df['age_group'] = pd.cut(df['age'], bin_edges, labels=bin_names)\n",
    "df.head()"
   ]
  },
  {
   "cell_type": "code",
   "execution_count": 25,
   "metadata": {},
   "outputs": [
    {
     "data": {
      "text/plain": [
       "age_group\n",
       "Young        True\n",
       "Millenial    True\n",
       "Gen X        True\n",
       "Boomer       True\n",
       "Silent       True\n",
       "Name: no_show, dtype: bool"
      ]
     },
     "execution_count": 25,
     "metadata": {},
     "output_type": "execute_result"
    }
   ],
   "source": [
    "\n",
    "#What proportion of each age group kept to their medical appointment?\n",
    "  \n",
    "no_show_is_No = filter_by_query(df, 'no_show', \"No\")   #those that kept appointment\n",
    "no_show_is_Yes = filter_by_query(df, 'no_show', \"Yes\")  #those that did not keep appointment\n",
    "\n",
    "# get total appointment counts for each age group\n",
    "bookings_total = df.groupby(['age_group'])['no_show'].count()\n",
    "\n",
    "# get proportions by dividing # of no_show = No by total # of no_show samples for the age group\n",
    "proportion_no_show_is_No = no_show_is_No.groupby(['age_group'])['no_show'].count()/bookings_total\n",
    "\n",
    " # get proportions by dividing # of no_show = Yes by total # of no_show samples\n",
    "proportion_no_show_is_Yes = no_show_is_Yes.groupby(['age_group'])['no_show'].count()/bookings_total\n",
    "\n",
    "#checksum to see if they add up to 1\n",
    "proportion_no_show_is_No + proportion_no_show_is_Yes == 1    #should return True"
   ]
  },
  {
   "cell_type": "code",
   "execution_count": 26,
   "metadata": {},
   "outputs": [
    {
     "data": {
      "image/png": "[encoded data removed]",
      "text/plain": [
       "<matplotlib.figure.Figure at 0x7f081bf59cf8>"
      ]
     },
     "metadata": {
      "needs_background": "light"
     },
     "output_type": "display_data"
    }
   ],
   "source": [
    "# for each age group, we make a plot of the proportion of those who kept their \n",
    "# medical appointments to those who missed appointment\n",
    "\n",
    "# dataframe for our proportion plots\n",
    "df_no_show_proportion_plot = pd.DataFrame({\n",
    "    \"Kept Appointment\" : proportion_no_show_is_No,\n",
    "    \"Missed Appointment\" : proportion_no_show_is_Yes,\n",
    "})\n",
    "\n",
    "df_no_show_proportion_plot.plot(kind=\"bar\", stacked=True, figsize=(8,8))\n",
    "plt.title('Response of Age groups to medical appointments')\n",
    "plt.xlabel('Age group')\n",
    "plt.ylabel('Appointments keeping proportion')\n",
    "plt.legend(loc='best');"
   ]
  },
  {
   "cell_type": "markdown",
   "metadata": {},
   "source": [
    "### Observations\n",
    "1. From the chart above, no much variations were observed between different age groups with regards to their responses to keeping medical appointments.\n",
    "\n",
    "2. Of all the age groups considered, __the Boomers__ recorded the highest medical appointment keeping rate, while the millenials recorded the least.\n",
    "\n",
    "3. There was more than average compliance with medical appointments across all age groups investigated."
   ]
  },
  {
   "cell_type": "markdown",
   "metadata": {},
   "source": [
    "### Summary Statistics\n"
   ]
  },
  {
   "cell_type": "code",
   "execution_count": 27,
   "metadata": {},
   "outputs": [
    {
     "data": {
      "text/plain": [
       "count    110527.000000\n",
       "mean         37.088883\n",
       "std          23.110190\n",
       "min           0.000000\n",
       "25%          18.000000\n",
       "50%          37.000000\n",
       "75%          55.000000\n",
       "max         115.000000\n",
       "Name: age, dtype: float64"
      ]
     },
     "execution_count": 27,
     "metadata": {},
     "output_type": "execute_result"
    }
   ],
   "source": [
    "df.describe()['age']"
   ]
  },
  {
   "cell_type": "code",
   "execution_count": 28,
   "metadata": {},
   "outputs": [
    {
     "data": {
      "image/png": "[encoded data removed]",
      "text/plain": [
       "<matplotlib.figure.Figure at 0x7f081c071b70>"
      ]
     },
     "metadata": {
      "needs_background": "light"
     },
     "output_type": "display_data"
    }
   ],
   "source": [
    "age_boxplot = df.boxplot('age', figsize=(8,8));"
   ]
  },
  {
   "cell_type": "code",
   "execution_count": 29,
   "metadata": {},
   "outputs": [
    {
     "data": {
      "text/plain": [
       "37.088883259294107"
      ]
     },
     "execution_count": 29,
     "metadata": {},
     "output_type": "execute_result"
    }
   ],
   "source": [
    "# Average age of all patients booked for appointment\n",
    "\n",
    "average_age = df.mean()['age']\n",
    "average_age"
   ]
  },
  {
   "cell_type": "markdown",
   "metadata": {},
   "source": [
    "### How does Gender affect appointment keeping?\n",
    "\n",
    "#### 1D Exploration\n",
    "\n",
    "1. How many patients booked for appointment were females?\n",
    "2. How many patients booked for appointment were males?\n",
    "3. What is the male to female ratio in the appointment booking dataset?\n",
    "4. Let's find out the Gender with the highest number of missed appointments"
   ]
  },
  {
   "cell_type": "code",
   "execution_count": 30,
   "metadata": {},
   "outputs": [
    {
     "data": {
      "text/plain": [
       "71840"
      ]
     },
     "execution_count": 30,
     "metadata": {},
     "output_type": "execute_result"
    }
   ],
   "source": [
    "# How many patients booked for appointment were females?\n",
    "\n",
    "gender_count_female = filter_by_query(df, 'gender', 'F').count()['gender']\n",
    "gender_count_female"
   ]
  },
  {
   "cell_type": "code",
   "execution_count": 31,
   "metadata": {},
   "outputs": [
    {
     "data": {
      "text/plain": [
       "38687"
      ]
     },
     "execution_count": 31,
     "metadata": {},
     "output_type": "execute_result"
    }
   ],
   "source": [
    "# How many patients booked for appointment were male?\n",
    "\n",
    "gender_count_male = filter_by_query(df, 'gender', 'M').count()['gender']\n",
    "gender_count_male"
   ]
  },
  {
   "cell_type": "code",
   "execution_count": 32,
   "metadata": {},
   "outputs": [
    {
     "data": {
      "image/png": "[encoded data removed]",
      "text/plain": [
       "<matplotlib.figure.Figure at 0x7f081c08bf60>"
      ]
     },
     "metadata": {
      "needs_background": "light"
     },
     "output_type": "display_data"
    }
   ],
   "source": [
    "# What is the male and female distribution in the appointment booking dataset?\n",
    "df_male_to_female = pd.DataFrame({\n",
    "    'gender_count_female' : [gender_count_female],\n",
    "    'gender_count_male' : [gender_count_male],\n",
    "})\n",
    "\n",
    "df_male_to_female.plot(kind='bar', figsize=(8,8))\n",
    "labels = ['Female', 'Male']\n",
    "plt.title('Appointment Distribution By Gender',);\n",
    "plt.xlabel('Gender')\n",
    "plt.ylabel('Number of Appointments')\n",
    "plt.legend(loc='best', labels=labels,);"
   ]
  },
  {
   "cell_type": "code",
   "execution_count": 33,
   "metadata": {},
   "outputs": [
    {
     "data": {
      "image/png": "[encoded data removed]",
      "text/plain": [
       "<matplotlib.figure.Figure at 0x7f081bf99860>"
      ]
     },
     "metadata": {},
     "output_type": "display_data"
    }
   ],
   "source": [
    "# Gender with the highest missed appointments:\n",
    "\n",
    "# fetch the no_show column and filter by no_show = Yes\n",
    "gender_no_show_is_yes = filter_by_query(df, 'no_show', 'Yes')\n",
    "\n",
    "# group them by gender\n",
    "gender_no_show_is_yes_group_by_gender = gender_no_show_is_yes.groupby('gender')['no_show'].count()\n",
    "\n",
    "# plot the pie chart\n",
    "gender_no_show_is_yes_group_by_gender.plot(kind='pie', figsize=(8,8), autopct = '%1.1f%%')\n",
    "plt.title('Appointment miss by Gender')\n",
    "labels = ['Females', 'Males']\n",
    "plt.legend(labels=labels,loc='best');"
   ]
  },
  {
   "cell_type": "markdown",
   "metadata": {},
   "source": [
    "**Observation**\n",
    "From the pie chart above, we can see that the female gender recorded the highest number of appointment misses (65.4%).\n",
    "\n",
    "This should be expected because they also constitute the highest number in the data set."
   ]
  },
  {
   "cell_type": "markdown",
   "metadata": {},
   "source": [
    "### Research Question 2: Influence of DateTime on appointment keeping"
   ]
  },
  {
   "cell_type": "code",
   "execution_count": 34,
   "metadata": {},
   "outputs": [],
   "source": [
    "# create a dataframe with rows filtered by \"no_show = No\" \n",
    "# and group them by weeks\n",
    "by_week_no_show_is_No = no_show_is_No.groupby(no_show_is_No.appointment_day.dt.week)['no_show'].count()\n",
    "\n",
    "\n",
    "# repeate also for \"no_show == Yes\"\n",
    "by_week_no_show_is_Yes = no_show_is_Yes.groupby(no_show_is_Yes.appointment_day.dt.week)['no_show'].count()"
   ]
  },
  {
   "cell_type": "code",
   "execution_count": 35,
   "metadata": {},
   "outputs": [],
   "source": [
    "#create a dataframe of the figures in the plot\n",
    "data = pd.DataFrame(\n",
    "    list(zip(by_week_no_show_is_No, by_week_no_show_is_Yes)),\n",
    "    columns = ['No-show = No', 'No-show = Yes'])"
   ]
  },
  {
   "cell_type": "code",
   "execution_count": 36,
   "metadata": {},
   "outputs": [
    {
     "data": {
      "image/png": "[encoded data removed]",
      "text/plain": [
       "<matplotlib.figure.Figure at 0x7f081bf99f60>"
      ]
     },
     "metadata": {
      "needs_background": "light"
     },
     "output_type": "display_data"
    }
   ],
   "source": [
    "# plot the variations in appointment keeping over time\n",
    "\n",
    "ax = plt.gca()\n",
    "\n",
    "fig_plot = data.plot(kind='bar',  figsize=(10,10), ax = ax,\n",
    "         title = \"Hospital Appointment Distribution Over Time\", fontsize=14);\n",
    "fig_plot.set_xlabel(\"Weekly Appointment Data Distribution\")\n",
    "fig_plot.set_ylabel(\"Appointment Count Per Week\");"
   ]
  },
  {
   "cell_type": "markdown",
   "metadata": {},
   "source": [
    "### The plot above visualizes the weekly distribution of the hospital appointment data\n",
    "\n",
    "i. Over a period of 7 weeks (Wk0 - Wk6), no regular correlation was found between weekly appointments booked abnd total show-up rate. The same applies to total appointments missed."
   ]
  },
  {
   "cell_type": "markdown",
   "metadata": {},
   "source": [
    "### __3. How effective is the SMS strategy?__\n",
    ">**Important questions asked:** For each age group, what percentage of those who recieved SMS were able to keep to their appointment?"
   ]
  },
  {
   "cell_type": "code",
   "execution_count": 37,
   "metadata": {},
   "outputs": [],
   "source": [
    "# create a dataframe for all rows with sms_received = 1\n",
    "df_sms_received = filter_by_query(df, 'sms_received', 1)\n",
    "\n",
    "# # get the number that received sms and KEPT appointment, and group by age_group\n",
    "df_sms_received_and_attended = filter_by_query(df_sms_received, 'no_show', 'No').groupby('age_group')['no_show'].count()\n",
    "\n",
    "# get the number that received sms and MISSED appointment, and group by age_group\n",
    "df_sms_received_and_missed = filter_by_query(df_sms_received, 'no_show', 'Yes').groupby('age_group')['no_show'].count()\n",
    "\n",
    "# get the total number that received sms, grouped by age_group\n",
    "total_sms_received = df_sms_received_and_attended + df_sms_received_and_missed"
   ]
  },
  {
   "cell_type": "code",
   "execution_count": 38,
   "metadata": {},
   "outputs": [],
   "source": [
    "# take proportions\n",
    "proportion_sms_received_and_attended = df_sms_received_and_attended / total_sms_received\n",
    "\n",
    "proportion_sms_received_and_missed = df_sms_received_and_missed / total_sms_received"
   ]
  },
  {
   "cell_type": "code",
   "execution_count": 39,
   "metadata": {},
   "outputs": [
    {
     "data": {
      "image/png": "[encoded data removed]",
      "text/plain": [
       "<matplotlib.figure.Figure at 0x7f081c04cc18>"
      ]
     },
     "metadata": {
      "needs_background": "light"
     },
     "output_type": "display_data"
    }
   ],
   "source": [
    "# Now, we visualise to see the impact of the sms strategy on appointment keeping for different age groups\n",
    "\n",
    "df_sms_impact = pd.DataFrame(\n",
    "    {\n",
    "    'received sms and attended' : proportion_sms_received_and_attended,\n",
    "        'received sms but missed' : proportion_sms_received_and_missed,\n",
    "}, \n",
    ")\n",
    "\n",
    "sms_impact_plot = df_sms_impact.plot(kind='bar', stacked=True, color=['red', 'skyblue'], alpha=1, figsize=(8,8), fontsize=14)\n",
    "sms_impact_plot.set_xlabel('Age Group')\n",
    "sms_impact_plot.set_ylabel('Proportion of Attendance Kept')\n",
    "sms_impact_plot.set_title('Relationship B/W Receiving SMS and Keeping Appointment');"
   ]
  },
  {
   "cell_type": "code",
   "execution_count": 40,
   "metadata": {},
   "outputs": [
    {
     "data": {
      "text/html": [
       "<div>\n",
       "<style scoped>\n",
       "    .dataframe tbody tr th:only-of-type {\n",
       "        vertical-align: middle;\n",
       "    }\n",
       "\n",
       "    .dataframe tbody tr th {\n",
       "        vertical-align: top;\n",
       "    }\n",
       "\n",
       "    .dataframe thead th {\n",
       "        text-align: right;\n",
       "    }\n",
       "</style>\n",
       "<table border=\"1\" class=\"dataframe\">\n",
       "  <thead>\n",
       "    <tr style=\"text-align: right;\">\n",
       "      <th></th>\n",
       "      <th>received sms and attended</th>\n",
       "      <th>received sms but missed</th>\n",
       "    </tr>\n",
       "    <tr>\n",
       "      <th>age_group</th>\n",
       "      <th></th>\n",
       "      <th></th>\n",
       "    </tr>\n",
       "  </thead>\n",
       "  <tbody>\n",
       "    <tr>\n",
       "      <th>Young</th>\n",
       "      <td>0.686573</td>\n",
       "      <td>0.313427</td>\n",
       "    </tr>\n",
       "    <tr>\n",
       "      <th>Millenial</th>\n",
       "      <td>0.658180</td>\n",
       "      <td>0.341820</td>\n",
       "    </tr>\n",
       "    <tr>\n",
       "      <th>Gen X</th>\n",
       "      <td>0.744213</td>\n",
       "      <td>0.255787</td>\n",
       "    </tr>\n",
       "    <tr>\n",
       "      <th>Boomer</th>\n",
       "      <td>0.816268</td>\n",
       "      <td>0.183732</td>\n",
       "    </tr>\n",
       "    <tr>\n",
       "      <th>Silent</th>\n",
       "      <td>0.796623</td>\n",
       "      <td>0.203377</td>\n",
       "    </tr>\n",
       "  </tbody>\n",
       "</table>\n",
       "</div>"
      ],
      "text/plain": [
       "           received sms and attended  received sms but missed\n",
       "age_group                                                    \n",
       "Young                       0.686573                 0.313427\n",
       "Millenial                   0.658180                 0.341820\n",
       "Gen X                       0.744213                 0.255787\n",
       "Boomer                      0.816268                 0.183732\n",
       "Silent                      0.796623                 0.203377"
      ]
     },
     "execution_count": 40,
     "metadata": {},
     "output_type": "execute_result"
    }
   ],
   "source": [
    "df_sms_impact"
   ]
  },
  {
   "cell_type": "markdown",
   "metadata": {},
   "source": [
    "### Observation\n",
    "\n",
    "1. There were more persons who received SMS and kept their medical appointment than those who received SMS but still missed their appointment\n",
    "\n",
    "2. Across all age groups, millenials have the least amount of those who received sms but still missed appointment, with a 65.8% compliance against Boomers with 81.6% compliance."
   ]
  },
  {
   "cell_type": "markdown",
   "metadata": {},
   "source": [
    "<a id='conclusions'></a>\n",
    "## Conclusions\n",
    "\n",
    "From the analysis above, we have drawn some insights into the behaviours of patients in Brazil, in relation to their hospital appointment keeping.\n",
    "\n",
    "We looked at how the following factors contribute to overall behaviour of patients in the affected hospital neighbourhoods:\n",
    "\n",
    "1. Demographic data such as age and gender.\n",
    "\n",
    "2. Influence of DateTime on appointment keeping\n",
    "\n",
    "3. How effective is the SMS strategy.\n",
    "\n",
    "It was discovered that a lot of factors could influence an individual's response to hospital appointment keeping, some of which directly result from hospital decisions (such as appointment date and time), alongside other factors revolving around the individual.\n",
    "\n",
    "From this tentative analysis, it was discovered that millenials (age range of 18 - 34 years), indicated the highest tendency of missing a hospital appointment, as opposed to the Boomers (50 - 69 years). \n",
    "\n",
    "Also, patients were found to be more likely not to miss their hospital appointments if an sms was sent to them.\n",
    "\n",
    "The female gender constituted the highest number of appointment misses. However, this result is not enough to conclude. A better way to evaluate this would have been to look at the proportional contributions of each gender since the female gender is also the most ddminant gender evaluated.\n",
    "\n",
    "\n",
    "## Limitations\n",
    "This analysis is purely tentative. Readers are encouraged not to draw conclusions yet, just by simple correlation.\n",
    "Keeping the above in mind, a few more limitations have been highlighted below, which are worthy of mention:\n",
    "\n",
    "Information regarding the method of collecting this data was not mentioned. This is important as the integrity of data is directly tied to what methods were used in gathering them. \n",
    "\n",
    "\n",
    "There could be possibilities of double-counting an individual (or a set of individuals), even when this will not reflect as a duplicate data. For instance, the data evaluated covered a range of hospitals spread across different neighbourhoods. An individual could have more than one ID since nothing prevents such person from having different records across different hospitals. An important question which we could not answer from the dataset provided is wehther we are not counting a set of individuals more than once. Since this analysis focused on the tendencies of patients to keep to their hospital appointment, uniqueness of data samples is very paramount.\n",
    "\n",
    "Even though a patient ID column was presented alongside in the original dataset, it is still unclear as to what convention such ID assignment followed. Is there a central body that assigns these IDs or are hospitals the one in charge of assigning IDs to their patients?\n",
    "\n",
    "If the former were the case, then the possibility that each patient is unique could be established. On the other hand, if the latter were to be the case, then chances of double-counting are high.\n",
    "\n",
    "Whatever the case may be, the dataset was not accompanied with adequate documentation to help us decipher."
   ]
  },
  {
   "cell_type": "code",
   "execution_count": 59,
   "metadata": {},
   "outputs": [
    {
     "data": {
      "text/plain": [
       "0"
      ]
     },
     "execution_count": 59,
     "metadata": {},
     "output_type": "execute_result"
    }
   ],
   "source": [
    "from subprocess import call\n",
    "call(['python', '-m', 'nbconvert', 'Investigate_a_Dataset.ipynb'])"
   ]
  },
  {
   "cell_type": "code",
   "execution_count": null,
   "metadata": {},
   "outputs": [],
   "source": []
  }
 ],
 "metadata": {
  "kernelspec": {
   "display_name": "Python 3",
   "language": "python",
   "name": "python3"
  },
  "language_info": {
   "codemirror_mode": {
    "name": "ipython",
    "version": 3
   },
   "file_extension": ".py",
   "mimetype": "text/x-python",
   "name": "python",
   "nbconvert_exporter": "python",
   "pygments_lexer": "ipython3",
   "version": "3.6.3"
  }
 },
 "nbformat": 4,
 "nbformat_minor": 2
}
